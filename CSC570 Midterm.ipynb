{
 "cells": [
  {
   "cell_type": "markdown",
   "metadata": {},
   "source": [
    "<h1>Midterm</h1>"
   ]
  },
  {
   "cell_type": "code",
   "execution_count": 19,
   "metadata": {
    "collapsed": true
   },
   "outputs": [],
   "source": [
    "import pandas as pd\n",
    "import matplotlib as plt\n",
    "from sklearn import datasets\n",
    "import pandas as pd\n",
    "from sklearn.preprocessing import StandardScaler\n",
    "from sklearn.cross_validation import train_test_split\n",
    "from sklearn.metrics import mean_squared_error\n",
    "from sklearn.metrics import r2_score\n",
    "from sklearn.linear_model import LinearRegression\n",
    "import numpy as np\n",
    "from sklearn.ensemble import RandomForestClassifier\n",
    "%matplotlib inline"
   ]
  },
  {
   "cell_type": "code",
   "execution_count": 2,
   "metadata": {
    "collapsed": true
   },
   "outputs": [],
   "source": [
    "#read the file\n",
    "df_test=pd.read_csv(\"midterm_test.csv\")\n",
    "df_train=pd.read_csv(\"midterm_train.csv\")"
   ]
  },
  {
   "cell_type": "code",
   "execution_count": 3,
   "metadata": {
    "collapsed": false
   },
   "outputs": [
    {
     "name": "stderr",
     "output_type": "stream",
     "text": [
      "C:\\Users\\Tushar\\Anaconda2\\lib\\site-packages\\numpy\\lib\\function_base.py:3834: RuntimeWarning: Invalid value encountered in percentile\n",
      "  RuntimeWarning)\n"
     ]
    },
    {
     "data": {
      "text/html": [
       "<div>\n",
       "<table border=\"1\" class=\"dataframe\">\n",
       "  <thead>\n",
       "    <tr style=\"text-align: right;\">\n",
       "      <th></th>\n",
       "      <th>x0</th>\n",
       "      <th>x1</th>\n",
       "      <th>x2</th>\n",
       "      <th>x3</th>\n",
       "      <th>x4</th>\n",
       "      <th>x5</th>\n",
       "      <th>x6</th>\n",
       "      <th>x7</th>\n",
       "      <th>x8</th>\n",
       "      <th>x9</th>\n",
       "      <th>...</th>\n",
       "      <th>x40</th>\n",
       "      <th>x41</th>\n",
       "      <th>x42</th>\n",
       "      <th>x43</th>\n",
       "      <th>x44</th>\n",
       "      <th>x45</th>\n",
       "      <th>x46</th>\n",
       "      <th>x47</th>\n",
       "      <th>x48</th>\n",
       "      <th>x49</th>\n",
       "    </tr>\n",
       "  </thead>\n",
       "  <tbody>\n",
       "    <tr>\n",
       "      <th>count</th>\n",
       "      <td>39993.000000</td>\n",
       "      <td>39995.000000</td>\n",
       "      <td>39990.000000</td>\n",
       "      <td>39993.000000</td>\n",
       "      <td>39994.000000</td>\n",
       "      <td>39989.000000</td>\n",
       "      <td>39991.000000</td>\n",
       "      <td>39987.000000</td>\n",
       "      <td>39994.000000</td>\n",
       "      <td>39986.000000</td>\n",
       "      <td>...</td>\n",
       "      <td>39992.000000</td>\n",
       "      <td>39993.000000</td>\n",
       "      <td>39985.000000</td>\n",
       "      <td>39992.000000</td>\n",
       "      <td>39997.000000</td>\n",
       "      <td>39996.000000</td>\n",
       "      <td>39993.000000</td>\n",
       "      <td>39996.000000</td>\n",
       "      <td>39995.000000</td>\n",
       "      <td>39987.000000</td>\n",
       "    </tr>\n",
       "    <tr>\n",
       "      <th>mean</th>\n",
       "      <td>0.001150</td>\n",
       "      <td>0.050029</td>\n",
       "      <td>-1.212748</td>\n",
       "      <td>0.037892</td>\n",
       "      <td>-0.017543</td>\n",
       "      <td>0.054597</td>\n",
       "      <td>-1.764113</td>\n",
       "      <td>-7.559937</td>\n",
       "      <td>0.077270</td>\n",
       "      <td>-0.022996</td>\n",
       "      <td>...</td>\n",
       "      <td>-2.215796</td>\n",
       "      <td>6.527137</td>\n",
       "      <td>-1.840976</td>\n",
       "      <td>0.007109</td>\n",
       "      <td>0.032597</td>\n",
       "      <td>0.003296</td>\n",
       "      <td>-12.681044</td>\n",
       "      <td>-0.023815</td>\n",
       "      <td>0.012795</td>\n",
       "      <td>-0.699512</td>\n",
       "    </tr>\n",
       "    <tr>\n",
       "      <th>std</th>\n",
       "      <td>0.370661</td>\n",
       "      <td>6.334603</td>\n",
       "      <td>13.244277</td>\n",
       "      <td>8.075404</td>\n",
       "      <td>6.366575</td>\n",
       "      <td>7.675792</td>\n",
       "      <td>19.256133</td>\n",
       "      <td>30.344781</td>\n",
       "      <td>8.904998</td>\n",
       "      <td>6.360036</td>\n",
       "      <td>...</td>\n",
       "      <td>16.910200</td>\n",
       "      <td>18.715717</td>\n",
       "      <td>5.128600</td>\n",
       "      <td>1.531295</td>\n",
       "      <td>4.137618</td>\n",
       "      <td>0.396432</td>\n",
       "      <td>36.737560</td>\n",
       "      <td>4.813593</td>\n",
       "      <td>1.938144</td>\n",
       "      <td>15.037603</td>\n",
       "    </tr>\n",
       "    <tr>\n",
       "      <th>min</th>\n",
       "      <td>-1.637195</td>\n",
       "      <td>-26.366592</td>\n",
       "      <td>-59.438295</td>\n",
       "      <td>-32.896394</td>\n",
       "      <td>-24.074707</td>\n",
       "      <td>-29.832100</td>\n",
       "      <td>-86.418814</td>\n",
       "      <td>-151.668029</td>\n",
       "      <td>-35.584361</td>\n",
       "      <td>-24.917306</td>\n",
       "      <td>...</td>\n",
       "      <td>-65.711291</td>\n",
       "      <td>-70.629012</td>\n",
       "      <td>-24.685394</td>\n",
       "      <td>-6.455841</td>\n",
       "      <td>-16.358976</td>\n",
       "      <td>-1.712737</td>\n",
       "      <td>-199.609887</td>\n",
       "      <td>-19.421488</td>\n",
       "      <td>-7.437804</td>\n",
       "      <td>-58.373259</td>\n",
       "    </tr>\n",
       "    <tr>\n",
       "      <th>25%</th>\n",
       "      <td>NaN</td>\n",
       "      <td>NaN</td>\n",
       "      <td>NaN</td>\n",
       "      <td>NaN</td>\n",
       "      <td>NaN</td>\n",
       "      <td>NaN</td>\n",
       "      <td>NaN</td>\n",
       "      <td>NaN</td>\n",
       "      <td>NaN</td>\n",
       "      <td>NaN</td>\n",
       "      <td>...</td>\n",
       "      <td>NaN</td>\n",
       "      <td>NaN</td>\n",
       "      <td>NaN</td>\n",
       "      <td>NaN</td>\n",
       "      <td>NaN</td>\n",
       "      <td>NaN</td>\n",
       "      <td>NaN</td>\n",
       "      <td>NaN</td>\n",
       "      <td>NaN</td>\n",
       "      <td>NaN</td>\n",
       "    </tr>\n",
       "    <tr>\n",
       "      <th>50%</th>\n",
       "      <td>NaN</td>\n",
       "      <td>NaN</td>\n",
       "      <td>NaN</td>\n",
       "      <td>NaN</td>\n",
       "      <td>NaN</td>\n",
       "      <td>NaN</td>\n",
       "      <td>NaN</td>\n",
       "      <td>NaN</td>\n",
       "      <td>NaN</td>\n",
       "      <td>NaN</td>\n",
       "      <td>...</td>\n",
       "      <td>NaN</td>\n",
       "      <td>NaN</td>\n",
       "      <td>NaN</td>\n",
       "      <td>NaN</td>\n",
       "      <td>NaN</td>\n",
       "      <td>NaN</td>\n",
       "      <td>NaN</td>\n",
       "      <td>NaN</td>\n",
       "      <td>NaN</td>\n",
       "      <td>NaN</td>\n",
       "    </tr>\n",
       "    <tr>\n",
       "      <th>75%</th>\n",
       "      <td>NaN</td>\n",
       "      <td>NaN</td>\n",
       "      <td>NaN</td>\n",
       "      <td>NaN</td>\n",
       "      <td>NaN</td>\n",
       "      <td>NaN</td>\n",
       "      <td>NaN</td>\n",
       "      <td>NaN</td>\n",
       "      <td>NaN</td>\n",
       "      <td>NaN</td>\n",
       "      <td>...</td>\n",
       "      <td>NaN</td>\n",
       "      <td>NaN</td>\n",
       "      <td>NaN</td>\n",
       "      <td>NaN</td>\n",
       "      <td>NaN</td>\n",
       "      <td>NaN</td>\n",
       "      <td>NaN</td>\n",
       "      <td>NaN</td>\n",
       "      <td>NaN</td>\n",
       "      <td>NaN</td>\n",
       "    </tr>\n",
       "    <tr>\n",
       "      <th>max</th>\n",
       "      <td>1.697244</td>\n",
       "      <td>25.619887</td>\n",
       "      <td>51.047183</td>\n",
       "      <td>30.420903</td>\n",
       "      <td>24.241551</td>\n",
       "      <td>34.870000</td>\n",
       "      <td>74.218768</td>\n",
       "      <td>154.990430</td>\n",
       "      <td>40.395457</td>\n",
       "      <td>24.115795</td>\n",
       "      <td>...</td>\n",
       "      <td>75.263599</td>\n",
       "      <td>87.682808</td>\n",
       "      <td>22.140912</td>\n",
       "      <td>6.286530</td>\n",
       "      <td>16.679249</td>\n",
       "      <td>1.663191</td>\n",
       "      <td>131.577516</td>\n",
       "      <td>20.586126</td>\n",
       "      <td>7.781771</td>\n",
       "      <td>63.436061</td>\n",
       "    </tr>\n",
       "  </tbody>\n",
       "</table>\n",
       "<p>8 rows × 45 columns</p>\n",
       "</div>"
      ],
      "text/plain": [
       "                 x0            x1            x2            x3            x4  \\\n",
       "count  39993.000000  39995.000000  39990.000000  39993.000000  39994.000000   \n",
       "mean       0.001150      0.050029     -1.212748      0.037892     -0.017543   \n",
       "std        0.370661      6.334603     13.244277      8.075404      6.366575   \n",
       "min       -1.637195    -26.366592    -59.438295    -32.896394    -24.074707   \n",
       "25%             NaN           NaN           NaN           NaN           NaN   \n",
       "50%             NaN           NaN           NaN           NaN           NaN   \n",
       "75%             NaN           NaN           NaN           NaN           NaN   \n",
       "max        1.697244     25.619887     51.047183     30.420903     24.241551   \n",
       "\n",
       "                 x5            x6            x7            x8            x9  \\\n",
       "count  39989.000000  39991.000000  39987.000000  39994.000000  39986.000000   \n",
       "mean       0.054597     -1.764113     -7.559937      0.077270     -0.022996   \n",
       "std        7.675792     19.256133     30.344781      8.904998      6.360036   \n",
       "min      -29.832100    -86.418814   -151.668029    -35.584361    -24.917306   \n",
       "25%             NaN           NaN           NaN           NaN           NaN   \n",
       "50%             NaN           NaN           NaN           NaN           NaN   \n",
       "75%             NaN           NaN           NaN           NaN           NaN   \n",
       "max       34.870000     74.218768    154.990430     40.395457     24.115795   \n",
       "\n",
       "           ...                x40           x41           x42           x43  \\\n",
       "count      ...       39992.000000  39993.000000  39985.000000  39992.000000   \n",
       "mean       ...          -2.215796      6.527137     -1.840976      0.007109   \n",
       "std        ...          16.910200     18.715717      5.128600      1.531295   \n",
       "min        ...         -65.711291    -70.629012    -24.685394     -6.455841   \n",
       "25%        ...                NaN           NaN           NaN           NaN   \n",
       "50%        ...                NaN           NaN           NaN           NaN   \n",
       "75%        ...                NaN           NaN           NaN           NaN   \n",
       "max        ...          75.263599     87.682808     22.140912      6.286530   \n",
       "\n",
       "                x44           x45           x46           x47           x48  \\\n",
       "count  39997.000000  39996.000000  39993.000000  39996.000000  39995.000000   \n",
       "mean       0.032597      0.003296    -12.681044     -0.023815      0.012795   \n",
       "std        4.137618      0.396432     36.737560      4.813593      1.938144   \n",
       "min      -16.358976     -1.712737   -199.609887    -19.421488     -7.437804   \n",
       "25%             NaN           NaN           NaN           NaN           NaN   \n",
       "50%             NaN           NaN           NaN           NaN           NaN   \n",
       "75%             NaN           NaN           NaN           NaN           NaN   \n",
       "max       16.679249      1.663191    131.577516     20.586126      7.781771   \n",
       "\n",
       "                x49  \n",
       "count  39987.000000  \n",
       "mean      -0.699512  \n",
       "std       15.037603  \n",
       "min      -58.373259  \n",
       "25%             NaN  \n",
       "50%             NaN  \n",
       "75%             NaN  \n",
       "max       63.436061  \n",
       "\n",
       "[8 rows x 45 columns]"
      ]
     },
     "execution_count": 3,
     "metadata": {},
     "output_type": "execute_result"
    }
   ],
   "source": [
    "df_test.describe()"
   ]
  },
  {
   "cell_type": "code",
   "execution_count": 4,
   "metadata": {
    "collapsed": true
   },
   "outputs": [],
   "source": [
    "#clean the data\n",
    "df_test['x32'] = df_test['x32'].str.replace('%','')\n",
    "df_test['x37'] = df_test['x37'].str.replace('$','')"
   ]
  },
  {
   "cell_type": "code",
   "execution_count": 5,
   "metadata": {
    "collapsed": false
   },
   "outputs": [],
   "source": [
    "def delete__by_values(lst, values):\n",
    "    values_as_set = set(values)\n",
    "    return [ x for x in lst if x not in values_as_set ]\n",
    "\n",
    "col_name=delete__by_values(list(df_test.columns.values),['x24','x29','x30'] )\n",
    "df_test.x32=df_test.x32.astype(np.float64)\n",
    "df_test.x37=df_test.x37.astype(np.float64)\n",
    "\n",
    "for i in col_name:\n",
    "    df_test[i]=df_test[i].fillna(df_test[i].mean())"
   ]
  },
  {
   "cell_type": "code",
   "execution_count": 6,
   "metadata": {
    "collapsed": false
   },
   "outputs": [
    {
     "data": {
      "text/html": [
       "<div>\n",
       "<table border=\"1\" class=\"dataframe\">\n",
       "  <thead>\n",
       "    <tr style=\"text-align: right;\">\n",
       "      <th></th>\n",
       "      <th>x0</th>\n",
       "      <th>x1</th>\n",
       "      <th>x2</th>\n",
       "      <th>x3</th>\n",
       "      <th>x4</th>\n",
       "      <th>x5</th>\n",
       "      <th>x6</th>\n",
       "      <th>x7</th>\n",
       "      <th>x8</th>\n",
       "      <th>x9</th>\n",
       "      <th>...</th>\n",
       "      <th>x40</th>\n",
       "      <th>x41</th>\n",
       "      <th>x42</th>\n",
       "      <th>x43</th>\n",
       "      <th>x44</th>\n",
       "      <th>x45</th>\n",
       "      <th>x46</th>\n",
       "      <th>x47</th>\n",
       "      <th>x48</th>\n",
       "      <th>x49</th>\n",
       "    </tr>\n",
       "  </thead>\n",
       "  <tbody>\n",
       "    <tr>\n",
       "      <th>count</th>\n",
       "      <td>40000.000000</td>\n",
       "      <td>40000.000000</td>\n",
       "      <td>40000.000000</td>\n",
       "      <td>40000.000000</td>\n",
       "      <td>40000.000000</td>\n",
       "      <td>40000.000000</td>\n",
       "      <td>40000.000000</td>\n",
       "      <td>40000.000000</td>\n",
       "      <td>40000.000000</td>\n",
       "      <td>40000.000000</td>\n",
       "      <td>...</td>\n",
       "      <td>40000.000000</td>\n",
       "      <td>40000.000000</td>\n",
       "      <td>40000.000000</td>\n",
       "      <td>40000.000000</td>\n",
       "      <td>40000.000000</td>\n",
       "      <td>40000.000000</td>\n",
       "      <td>40000.000000</td>\n",
       "      <td>40000.000000</td>\n",
       "      <td>40000.000000</td>\n",
       "      <td>40000.000000</td>\n",
       "    </tr>\n",
       "    <tr>\n",
       "      <th>mean</th>\n",
       "      <td>0.001150</td>\n",
       "      <td>0.050029</td>\n",
       "      <td>-1.212748</td>\n",
       "      <td>0.037892</td>\n",
       "      <td>-0.017543</td>\n",
       "      <td>0.054597</td>\n",
       "      <td>-1.764113</td>\n",
       "      <td>-7.559937</td>\n",
       "      <td>0.077270</td>\n",
       "      <td>-0.022996</td>\n",
       "      <td>...</td>\n",
       "      <td>-2.215796</td>\n",
       "      <td>6.527137</td>\n",
       "      <td>-1.840976</td>\n",
       "      <td>0.007109</td>\n",
       "      <td>0.032597</td>\n",
       "      <td>0.003296</td>\n",
       "      <td>-12.681044</td>\n",
       "      <td>-0.023815</td>\n",
       "      <td>0.012795</td>\n",
       "      <td>-0.699512</td>\n",
       "    </tr>\n",
       "    <tr>\n",
       "      <th>std</th>\n",
       "      <td>0.370628</td>\n",
       "      <td>6.334207</td>\n",
       "      <td>13.242621</td>\n",
       "      <td>8.074698</td>\n",
       "      <td>6.366098</td>\n",
       "      <td>7.674737</td>\n",
       "      <td>19.253966</td>\n",
       "      <td>30.339849</td>\n",
       "      <td>8.904330</td>\n",
       "      <td>6.358923</td>\n",
       "      <td>...</td>\n",
       "      <td>16.908509</td>\n",
       "      <td>18.714079</td>\n",
       "      <td>5.127638</td>\n",
       "      <td>1.531142</td>\n",
       "      <td>4.137463</td>\n",
       "      <td>0.396412</td>\n",
       "      <td>36.734345</td>\n",
       "      <td>4.813352</td>\n",
       "      <td>1.938023</td>\n",
       "      <td>15.035159</td>\n",
       "    </tr>\n",
       "    <tr>\n",
       "      <th>min</th>\n",
       "      <td>-1.637195</td>\n",
       "      <td>-26.366592</td>\n",
       "      <td>-59.438295</td>\n",
       "      <td>-32.896394</td>\n",
       "      <td>-24.074707</td>\n",
       "      <td>-29.832100</td>\n",
       "      <td>-86.418814</td>\n",
       "      <td>-151.668029</td>\n",
       "      <td>-35.584361</td>\n",
       "      <td>-24.917306</td>\n",
       "      <td>...</td>\n",
       "      <td>-65.711291</td>\n",
       "      <td>-70.629012</td>\n",
       "      <td>-24.685394</td>\n",
       "      <td>-6.455841</td>\n",
       "      <td>-16.358976</td>\n",
       "      <td>-1.712737</td>\n",
       "      <td>-199.609887</td>\n",
       "      <td>-19.421488</td>\n",
       "      <td>-7.437804</td>\n",
       "      <td>-58.373259</td>\n",
       "    </tr>\n",
       "    <tr>\n",
       "      <th>25%</th>\n",
       "      <td>-0.246958</td>\n",
       "      <td>-4.154988</td>\n",
       "      <td>-10.207430</td>\n",
       "      <td>-5.361547</td>\n",
       "      <td>-4.296504</td>\n",
       "      <td>-5.119915</td>\n",
       "      <td>-14.840836</td>\n",
       "      <td>-26.882325</td>\n",
       "      <td>-5.944396</td>\n",
       "      <td>-4.326068</td>\n",
       "      <td>...</td>\n",
       "      <td>-13.707193</td>\n",
       "      <td>-6.047511</td>\n",
       "      <td>-5.169370</td>\n",
       "      <td>-1.016202</td>\n",
       "      <td>-2.723689</td>\n",
       "      <td>-0.264125</td>\n",
       "      <td>-36.322308</td>\n",
       "      <td>-3.241408</td>\n",
       "      <td>-1.307183</td>\n",
       "      <td>-11.050554</td>\n",
       "    </tr>\n",
       "    <tr>\n",
       "      <th>50%</th>\n",
       "      <td>0.003580</td>\n",
       "      <td>0.044744</td>\n",
       "      <td>-1.398718</td>\n",
       "      <td>0.037892</td>\n",
       "      <td>-0.035429</td>\n",
       "      <td>0.052811</td>\n",
       "      <td>-2.045340</td>\n",
       "      <td>-6.896945</td>\n",
       "      <td>0.047540</td>\n",
       "      <td>-0.027538</td>\n",
       "      <td>...</td>\n",
       "      <td>-2.547161</td>\n",
       "      <td>6.669239</td>\n",
       "      <td>-1.945811</td>\n",
       "      <td>0.002263</td>\n",
       "      <td>0.035164</td>\n",
       "      <td>0.003837</td>\n",
       "      <td>-12.681810</td>\n",
       "      <td>-0.034747</td>\n",
       "      <td>0.003739</td>\n",
       "      <td>-0.681236</td>\n",
       "    </tr>\n",
       "    <tr>\n",
       "      <th>75%</th>\n",
       "      <td>0.250093</td>\n",
       "      <td>4.304233</td>\n",
       "      <td>7.744112</td>\n",
       "      <td>5.411673</td>\n",
       "      <td>4.272164</td>\n",
       "      <td>5.271263</td>\n",
       "      <td>11.259357</td>\n",
       "      <td>12.330131</td>\n",
       "      <td>6.141233</td>\n",
       "      <td>4.277531</td>\n",
       "      <td>...</td>\n",
       "      <td>8.952327</td>\n",
       "      <td>18.994947</td>\n",
       "      <td>1.467961</td>\n",
       "      <td>1.042574</td>\n",
       "      <td>2.840642</td>\n",
       "      <td>0.268797</td>\n",
       "      <td>11.439456</td>\n",
       "      <td>3.219125</td>\n",
       "      <td>1.336426</td>\n",
       "      <td>9.587165</td>\n",
       "    </tr>\n",
       "    <tr>\n",
       "      <th>max</th>\n",
       "      <td>1.697244</td>\n",
       "      <td>25.619887</td>\n",
       "      <td>51.047183</td>\n",
       "      <td>30.420903</td>\n",
       "      <td>24.241551</td>\n",
       "      <td>34.870000</td>\n",
       "      <td>74.218768</td>\n",
       "      <td>154.990430</td>\n",
       "      <td>40.395457</td>\n",
       "      <td>24.115795</td>\n",
       "      <td>...</td>\n",
       "      <td>75.263599</td>\n",
       "      <td>87.682808</td>\n",
       "      <td>22.140912</td>\n",
       "      <td>6.286530</td>\n",
       "      <td>16.679249</td>\n",
       "      <td>1.663191</td>\n",
       "      <td>131.577516</td>\n",
       "      <td>20.586126</td>\n",
       "      <td>7.781771</td>\n",
       "      <td>63.436061</td>\n",
       "    </tr>\n",
       "  </tbody>\n",
       "</table>\n",
       "<p>8 rows × 47 columns</p>\n",
       "</div>"
      ],
      "text/plain": [
       "                 x0            x1            x2            x3            x4  \\\n",
       "count  40000.000000  40000.000000  40000.000000  40000.000000  40000.000000   \n",
       "mean       0.001150      0.050029     -1.212748      0.037892     -0.017543   \n",
       "std        0.370628      6.334207     13.242621      8.074698      6.366098   \n",
       "min       -1.637195    -26.366592    -59.438295    -32.896394    -24.074707   \n",
       "25%       -0.246958     -4.154988    -10.207430     -5.361547     -4.296504   \n",
       "50%        0.003580      0.044744     -1.398718      0.037892     -0.035429   \n",
       "75%        0.250093      4.304233      7.744112      5.411673      4.272164   \n",
       "max        1.697244     25.619887     51.047183     30.420903     24.241551   \n",
       "\n",
       "                 x5            x6            x7            x8            x9  \\\n",
       "count  40000.000000  40000.000000  40000.000000  40000.000000  40000.000000   \n",
       "mean       0.054597     -1.764113     -7.559937      0.077270     -0.022996   \n",
       "std        7.674737     19.253966     30.339849      8.904330      6.358923   \n",
       "min      -29.832100    -86.418814   -151.668029    -35.584361    -24.917306   \n",
       "25%       -5.119915    -14.840836    -26.882325     -5.944396     -4.326068   \n",
       "50%        0.052811     -2.045340     -6.896945      0.047540     -0.027538   \n",
       "75%        5.271263     11.259357     12.330131      6.141233      4.277531   \n",
       "max       34.870000     74.218768    154.990430     40.395457     24.115795   \n",
       "\n",
       "           ...                x40           x41           x42           x43  \\\n",
       "count      ...       40000.000000  40000.000000  40000.000000  40000.000000   \n",
       "mean       ...          -2.215796      6.527137     -1.840976      0.007109   \n",
       "std        ...          16.908509     18.714079      5.127638      1.531142   \n",
       "min        ...         -65.711291    -70.629012    -24.685394     -6.455841   \n",
       "25%        ...         -13.707193     -6.047511     -5.169370     -1.016202   \n",
       "50%        ...          -2.547161      6.669239     -1.945811      0.002263   \n",
       "75%        ...           8.952327     18.994947      1.467961      1.042574   \n",
       "max        ...          75.263599     87.682808     22.140912      6.286530   \n",
       "\n",
       "                x44           x45           x46           x47           x48  \\\n",
       "count  40000.000000  40000.000000  40000.000000  40000.000000  40000.000000   \n",
       "mean       0.032597      0.003296    -12.681044     -0.023815      0.012795   \n",
       "std        4.137463      0.396412     36.734345      4.813352      1.938023   \n",
       "min      -16.358976     -1.712737   -199.609887    -19.421488     -7.437804   \n",
       "25%       -2.723689     -0.264125    -36.322308     -3.241408     -1.307183   \n",
       "50%        0.035164      0.003837    -12.681810     -0.034747      0.003739   \n",
       "75%        2.840642      0.268797     11.439456      3.219125      1.336426   \n",
       "max       16.679249      1.663191    131.577516     20.586126      7.781771   \n",
       "\n",
       "                x49  \n",
       "count  40000.000000  \n",
       "mean      -0.699512  \n",
       "std       15.035159  \n",
       "min      -58.373259  \n",
       "25%      -11.050554  \n",
       "50%       -0.681236  \n",
       "75%        9.587165  \n",
       "max       63.436061  \n",
       "\n",
       "[8 rows x 47 columns]"
      ]
     },
     "execution_count": 6,
     "metadata": {},
     "output_type": "execute_result"
    }
   ],
   "source": [
    "#verify the missing value is filled or not\n",
    "df_test.describe()"
   ]
  },
  {
   "cell_type": "code",
   "execution_count": 7,
   "metadata": {
    "collapsed": false
   },
   "outputs": [
    {
     "data": {
      "text/html": [
       "<table border=\"1\" class=\"dataframe\">\n",
       "  <thead>\n",
       "    <tr style=\"text-align: right;\">\n",
       "      <th></th>\n",
       "      <th>x24</th>\n",
       "      <th>x29</th>\n",
       "      <th>x30</th>\n",
       "    </tr>\n",
       "  </thead>\n",
       "  <tbody>\n",
       "    <tr>\n",
       "      <th>count</th>\n",
       "      <td>39987</td>\n",
       "      <td>39993</td>\n",
       "      <td>39994</td>\n",
       "    </tr>\n",
       "    <tr>\n",
       "      <th>unique</th>\n",
       "      <td>3</td>\n",
       "      <td>12</td>\n",
       "      <td>5</td>\n",
       "    </tr>\n",
       "    <tr>\n",
       "      <th>top</th>\n",
       "      <td>asia</td>\n",
       "      <td>July</td>\n",
       "      <td>wednesday</td>\n",
       "    </tr>\n",
       "    <tr>\n",
       "      <th>freq</th>\n",
       "      <td>34665</td>\n",
       "      <td>11500</td>\n",
       "      <td>25153</td>\n",
       "    </tr>\n",
       "  </tbody>\n",
       "</table>"
      ],
      "text/plain": [
       "<IPython.core.display.HTML object>"
      ]
     },
     "metadata": {},
     "output_type": "display_data"
    }
   ],
   "source": [
    "\n",
    "def describe_categorical(X):\n",
    "    \"\"\"\n",
    "    Just like .describe(), but returns the results for\n",
    "    categorical variables only.\n",
    "    \"\"\"\n",
    "    from IPython.display import display, HTML\n",
    "    display(HTML(X[X.columns[X.dtypes == \"object\"]].describe().to_html()))\n",
    "describe_categorical(df_test)"
   ]
  },
  {
   "cell_type": "code",
   "execution_count": 8,
   "metadata": {
    "collapsed": true
   },
   "outputs": [],
   "source": [
    "categorical_variables=['x24','x29','x30']\n",
    "for variable in categorical_variables:\n",
    "    dummies = pd.get_dummies(df_test[variable], prefix=variable)\n",
    "    # Update X to include dummies and drop the main variable\n",
    "    df_test = pd.concat([df_test, dummies], axis=1)\n",
    "    df_test.drop([variable], axis=1, inplace=True)"
   ]
  },
  {
   "cell_type": "code",
   "execution_count": 9,
   "metadata": {
    "collapsed": false
   },
   "outputs": [
    {
     "data": {
      "text/plain": [
       "Index([u'x0', u'x1', u'x2', u'x3', u'x4', u'x5', u'x6', u'x7', u'x8', u'x9',\n",
       "       u'x10', u'x11', u'x12', u'x13', u'x14', u'x15', u'x16', u'x17', u'x18',\n",
       "       u'x19', u'x20', u'x21', u'x22', u'x23', u'x25', u'x26', u'x27', u'x28',\n",
       "       u'x31', u'x32', u'x33', u'x34', u'x35', u'x36', u'x37', u'x38', u'x39',\n",
       "       u'x40', u'x41', u'x42', u'x43', u'x44', u'x45', u'x46', u'x47', u'x48',\n",
       "       u'x49', u'x24_america', u'x24_asia', u'x24_euorpe', u'x29_Apr',\n",
       "       u'x29_Aug', u'x29_Dev', u'x29_Feb', u'x29_January', u'x29_July',\n",
       "       u'x29_Jun', u'x29_Mar', u'x29_May', u'x29_Nov', u'x29_Oct',\n",
       "       u'x29_sept.', u'x30_friday', u'x30_monday', u'x30_thurday',\n",
       "       u'x30_tuesday', u'x30_wednesday'],\n",
       "      dtype='object')"
      ]
     },
     "execution_count": 9,
     "metadata": {},
     "output_type": "execute_result"
    }
   ],
   "source": [
    "df_test.columns"
   ]
  },
  {
   "cell_type": "code",
   "execution_count": 10,
   "metadata": {
    "collapsed": true
   },
   "outputs": [],
   "source": [
    "df_test.to_csv('midterm_test_clean.csv')"
   ]
  },
  {
   "cell_type": "markdown",
   "metadata": {},
   "source": [
    "<h2>Start cleaning train dataset</h2>"
   ]
  },
  {
   "cell_type": "code",
   "execution_count": 12,
   "metadata": {
    "collapsed": true
   },
   "outputs": [],
   "source": [
    "df_train['x32'] = df_train['x32'].str.replace('%','')\n",
    "df_train['x37'] = df_train['x37'].str.replace('$','')"
   ]
  },
  {
   "cell_type": "code",
   "execution_count": 13,
   "metadata": {
    "collapsed": true
   },
   "outputs": [],
   "source": [
    "def delete__by_values(lst, values):\n",
    "    values_as_set = set(values)\n",
    "    return [ x for x in lst if x not in values_as_set ]\n",
    "\n",
    "col_name=delete__by_values(list(df_train.columns.values),['x24','x29','x30','y'] )\n",
    "df_train.x32=df_train.x32.astype(np.float64)\n",
    "df_train.x37=df_train.x37.astype(np.float64)\n",
    "\n",
    "for i in col_name:\n",
    "    df_train[i]=df_train[i].fillna(df_train[i].mean())"
   ]
  },
  {
   "cell_type": "code",
   "execution_count": 14,
   "metadata": {
    "collapsed": false
   },
   "outputs": [
    {
     "data": {
      "text/html": [
       "<table border=\"1\" class=\"dataframe\">\n",
       "  <thead>\n",
       "    <tr style=\"text-align: right;\">\n",
       "      <th></th>\n",
       "      <th>x24</th>\n",
       "      <th>x29</th>\n",
       "      <th>x30</th>\n",
       "    </tr>\n",
       "  </thead>\n",
       "  <tbody>\n",
       "    <tr>\n",
       "      <th>count</th>\n",
       "      <td>159972</td>\n",
       "      <td>159970</td>\n",
       "      <td>159970</td>\n",
       "    </tr>\n",
       "    <tr>\n",
       "      <th>unique</th>\n",
       "      <td>3</td>\n",
       "      <td>12</td>\n",
       "      <td>5</td>\n",
       "    </tr>\n",
       "    <tr>\n",
       "      <th>top</th>\n",
       "      <td>asia</td>\n",
       "      <td>July</td>\n",
       "      <td>wednesday</td>\n",
       "    </tr>\n",
       "    <tr>\n",
       "      <th>freq</th>\n",
       "      <td>138965</td>\n",
       "      <td>45569</td>\n",
       "      <td>101535</td>\n",
       "    </tr>\n",
       "  </tbody>\n",
       "</table>"
      ],
      "text/plain": [
       "<IPython.core.display.HTML object>"
      ]
     },
     "metadata": {},
     "output_type": "display_data"
    }
   ],
   "source": [
    "describe_categorical(df_train)"
   ]
  },
  {
   "cell_type": "code",
   "execution_count": 15,
   "metadata": {
    "collapsed": true
   },
   "outputs": [],
   "source": [
    "categorical_variables=['x24','x29','x30']\n",
    "for variable in categorical_variables:\n",
    "    dummies = pd.get_dummies(df_train[variable], prefix=variable)\n",
    "    # Update X to include dummies and drop the main variable\n",
    "    df_train = pd.concat([df_train, dummies], axis=1)\n",
    "    df_train.drop([variable], axis=1, inplace=True)"
   ]
  },
  {
   "cell_type": "code",
   "execution_count": 18,
   "metadata": {
    "collapsed": false
   },
   "outputs": [],
   "source": [
    "y=df_train['y']\n",
    "del df_train['y']"
   ]
  },
  {
   "cell_type": "markdown",
   "metadata": {},
   "source": [
    "<h2>Random Forest</h2>"
   ]
  },
  {
   "cell_type": "code",
   "execution_count": 20,
   "metadata": {
    "collapsed": false
   },
   "outputs": [
    {
     "data": {
      "text/plain": [
       "RandomForestClassifier(bootstrap=True, class_weight=None, criterion='gini',\n",
       "            max_depth=None, max_features='auto', max_leaf_nodes=None,\n",
       "            min_samples_leaf=1, min_samples_split=2,\n",
       "            min_weight_fraction_leaf=0.0, n_estimators=100, n_jobs=-1,\n",
       "            oob_score=True, random_state=42, verbose=0, warm_start=False)"
      ]
     },
     "execution_count": 20,
     "metadata": {},
     "output_type": "execute_result"
    }
   ],
   "source": [
    "model = RandomForestClassifier(n_estimators=100, oob_score=True,n_jobs=-1, random_state=42)\n",
    "model.fit(df_train, y)"
   ]
  },
  {
   "cell_type": "code",
   "execution_count": 21,
   "metadata": {
    "collapsed": false
   },
   "outputs": [
    {
     "data": {
      "text/plain": [
       "0.92005625000000002"
      ]
     },
     "execution_count": 21,
     "metadata": {},
     "output_type": "execute_result"
    }
   ],
   "source": [
    "model.oob_score_"
   ]
  },
  {
   "cell_type": "code",
   "execution_count": 22,
   "metadata": {
    "collapsed": true
   },
   "outputs": [],
   "source": [
    "df_train.to_csv('midterm_train_clean.csv')"
   ]
  },
  {
   "cell_type": "code",
   "execution_count": 23,
   "metadata": {
    "collapsed": true
   },
   "outputs": [],
   "source": [
    "prediction=model.predict(df_test)"
   ]
  },
  {
   "cell_type": "code",
   "execution_count": 27,
   "metadata": {
    "collapsed": false
   },
   "outputs": [
    {
     "name": "stdout",
     "output_type": "stream",
     "text": [
      "[0 0 0 ..., 0 0 0]\n"
     ]
    }
   ],
   "source": [
    "print prediction"
   ]
  },
  {
   "cell_type": "code",
   "execution_count": 38,
   "metadata": {
    "collapsed": false
   },
   "outputs": [],
   "source": [
    "frame=pd.DataFrame()\n",
    "frame['Id']=range(0,len(prediction))\n",
    "frame['y']=prediction\n",
    "#frame.pop(0)\n",
    "#print frame\n",
    "frame.to_csv('submission.csv',index=False)"
   ]
  },
  {
   "cell_type": "code",
   "execution_count": null,
   "metadata": {
    "collapsed": true
   },
   "outputs": [],
   "source": []
  }
 ],
 "metadata": {
  "anaconda-cloud": {},
  "kernelspec": {
   "display_name": "Python [Root]",
   "language": "python",
   "name": "Python [Root]"
  },
  "language_info": {
   "codemirror_mode": {
    "name": "ipython",
    "version": 2
   },
   "file_extension": ".py",
   "mimetype": "text/x-python",
   "name": "python",
   "nbconvert_exporter": "python",
   "pygments_lexer": "ipython2",
   "version": "2.7.12"
  }
 },
 "nbformat": 4,
 "nbformat_minor": 0
}
